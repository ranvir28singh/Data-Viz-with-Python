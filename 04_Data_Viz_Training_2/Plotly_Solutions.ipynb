{
 "cells": [
  {
   "cell_type": "markdown",
   "metadata": {},
   "source": [
    "## Solutions"
   ]
  },
  {
   "cell_type": "code",
   "execution_count": 79,
   "metadata": {},
   "outputs": [],
   "source": [
    "from plotly.offline import plot\n",
    "import pandas as pd\n",
    "import plotly.graph_objs as go"
   ]
  },
  {
   "cell_type": "code",
   "execution_count": 80,
   "metadata": {},
   "outputs": [],
   "source": [
    "unemployment_df = pd.read_excel('https://www.ers.usda.gov/webdocs/DataFiles/48747/Unemployment.xls?v=0', header = 7)\n",
    "unemployment_df.head()\n",
    "unemployment_df = unemployment_df.dropna()\n",
    "df_2 = unemployment_df[['Area_name','Unemployment_rate_2007','Unemployment_rate_2008','Unemployment_rate_2009',\n",
    "       'Unemployment_rate_2010','Unemployment_rate_2011','Unemployment_rate_2012','Unemployment_rate_2013',\n",
    "       'Unemployment_rate_2014','Unemployment_rate_2015','Unemployment_rate_2016','Unemployment_rate_2017']]"
   ]
  },
  {
   "cell_type": "markdown",
   "metadata": {},
   "source": [
    "### 1 Violin Plot"
   ]
  },
  {
   "cell_type": "code",
   "execution_count": 18,
   "metadata": {},
   "outputs": [],
   "source": [
    "data = []\n",
    "\n",
    "for i in range(1,len(df_2.columns)):\n",
    "    trace = {\n",
    "            \"type\": 'violin',\n",
    "            \"x\": df_2.columns[i],\n",
    "            \"y\": df_2.iloc[:,i],\n",
    "            \"name\": df_2.columns[i][13:],\n",
    "            \"box\": {\n",
    "                \"visible\": True\n",
    "            },\n",
    "            \"meanline\": {\n",
    "                \"visible\": True\n",
    "            }\n",
    "        }\n",
    "    data.append(trace)\n",
    "\n",
    "        \n",
    "fig = {\n",
    "    \"data\": data,\n",
    "    \"layout\" : {\n",
    "        \"title\": \"Unemployment Rate for All Counties by Year\",\n",
    "        \"yaxis\": {\n",
    "            \"zeroline\": False,\n",
    "        }\n",
    "    }\n",
    "}\n",
    "\n",
    "plot(fig,validate = False);"
   ]
  },
  {
   "cell_type": "markdown",
   "metadata": {},
   "source": [
    "### 2 Box Plot"
   ]
  },
  {
   "cell_type": "code",
   "execution_count": 20,
   "metadata": {},
   "outputs": [],
   "source": [
    "data = []\n",
    "\n",
    "for i in range(1,len(df_2.columns)):\n",
    "    trace = {\n",
    "            \"type\": 'box',\n",
    "            \"x\": df_2.columns[i],\n",
    "            \"y\": df_2.iloc[:,i],\n",
    "            \"name\": df_2.columns[i][13:],\n",
    "            \"box\": {\n",
    "                \"visible\": True\n",
    "            },\n",
    "            \"meanline\": {\n",
    "                \"visible\": True\n",
    "            }\n",
    "        }\n",
    "    data.append(trace)\n",
    "\n",
    "        \n",
    "fig = {\n",
    "    \"data\": data,\n",
    "    \"layout\" : {\n",
    "        \"title\": \"Unemployment Rate for All Counties by Year\",\n",
    "        \"yaxis\": {\n",
    "            \"zeroline\": False,\n",
    "        }\n",
    "    }\n",
    "}\n",
    "\n",
    "plot(fig,validate = False);"
   ]
  },
  {
   "cell_type": "markdown",
   "metadata": {},
   "source": [
    "### 3 Histogram:\n",
    "    \n",
    "Replicate the above code with type = 'histogram' and analyze pairs of years by manipulating the legend"
   ]
  },
  {
   "cell_type": "markdown",
   "metadata": {},
   "source": [
    "### 4 Line Charts for Alabama"
   ]
  },
  {
   "cell_type": "code",
   "execution_count": null,
   "metadata": {},
   "outputs": [],
   "source": [
    "df_3 = unemployment_df.groupby('State').mean().iloc[:,4:-2:2]\n",
    "\n",
    "trace_1 = go.Scatter(\n",
    "                        x=[x for x in range(2007, 2018)],\n",
    "                        y=df_3[df_3.index == 'AL'].iloc[:,1::2].values[0].tolist(),\n",
    "                        text=df_3[df_3.index == 'AL'].iloc[:,1::2].values[0].tolist(),\n",
    "                        mode='lines+markers',\n",
    "                        opacity=0.7,\n",
    "                        name = 'AL Unemployed',\n",
    "                        marker={\n",
    "                            'size': 8,\n",
    "                            'line': {'width': 0.5, 'color': 'white'}\n",
    "                        },\n",
    "\n",
    "                    )\n",
    "\n",
    "trace_2 = go.Scatter(\n",
    "                        x=[x for x in range(2007, 2018)],\n",
    "                        y=df_3[df_3.index == 'AL'].iloc[:,::2].values[0].tolist(),\n",
    "                        text=df_3[df_3.index == 'AL'].iloc[:,::2].values[0].tolist(),\n",
    "                        mode='lines+markers',\n",
    "                        opacity=0.7,\n",
    "                        name = 'AL Total Labor Force',\n",
    "                        marker={\n",
    "                            'size': 8,\n",
    "                            'line' : {'width': 0.5, 'color': 'white'}\n",
    "                        }\n",
    "                    )\n",
    "\n",
    "layout  = go.Layout(title = 'Alabama - Total vs Unemployed Populations')\n",
    "data = [trace_1, trace_2]\n",
    "fig = dict(data=data, layout=layout)\n",
    "\n",
    "plot(fig)"
   ]
  },
  {
   "cell_type": "code",
   "execution_count": null,
   "metadata": {},
   "outputs": [],
   "source": []
  }
 ],
 "metadata": {
  "kernelspec": {
   "display_name": "Python 3",
   "language": "python",
   "name": "python3"
  },
  "language_info": {
   "codemirror_mode": {
    "name": "ipython",
    "version": 3
   },
   "file_extension": ".py",
   "mimetype": "text/x-python",
   "name": "python",
   "nbconvert_exporter": "python",
   "pygments_lexer": "ipython3",
   "version": "3.8.3"
  }
 },
 "nbformat": 4,
 "nbformat_minor": 2
}
