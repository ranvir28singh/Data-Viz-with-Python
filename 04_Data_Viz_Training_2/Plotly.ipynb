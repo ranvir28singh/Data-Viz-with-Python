{
 "cells": [
  {
   "cell_type": "markdown",
   "metadata": {},
   "source": [
    "## Understanding Plotly\n",
    "\n",
    "In your workplace, you will be leveraging Dash, which is built on Plotly. Here's a guide to [installation](https://plot.ly/python/getting-started/). You should first understand [basic Plotly functions](https://plot.ly/javascript/#fundamentals). \n",
    "\n",
    "You should know some basic chart types including [scatter plots](https://plot.ly/python/line-and-scatter/), [bar graphs](https://plot.ly/python/bar-charts/) as well as [line charts](https://plot.ly/python/line-charts/).\n",
    "\n",
    "We will introduce Plotly as an offline tool. The first objective is to simply create a plot using the 'plot' module."
   ]
  },
  {
   "cell_type": "code",
   "execution_count": 12,
   "metadata": {},
   "outputs": [],
   "source": [
    "from plotly.offline import download_plotlyjs, init_notebook_mode, plot, iplot\n",
    "\n",
    "import numpy as np\n",
    "\n",
    "plot([{\"x\": [1, 2, 3], \"y\": [3, 1, 6]}]);"
   ]
  },
  {
   "cell_type": "markdown",
   "metadata": {},
   "source": [
    "You will see that the plot opens up in a new window. Now, we use Plotly Graph Objects to do the same. This time you will notice that a temporary Plotly object has been saved in your folder. This object will be replaced by a new one when you create a new object."
   ]
  },
  {
   "cell_type": "code",
   "execution_count": null,
   "metadata": {},
   "outputs": [],
   "source": [
    "import plotly.graph_objs as go\n",
    "\n",
    "plot([go.Scatter(x = [1, 2, 3], y = [3, 1, 6])])"
   ]
  },
  {
   "cell_type": "markdown",
   "metadata": {},
   "source": [
    "Here's a more complex contour plot (borrowed from the Plotly tutorial on their website):"
   ]
  },
  {
   "cell_type": "code",
   "execution_count": null,
   "metadata": {},
   "outputs": [],
   "source": [
    "x = np.random.randn(2000)\n",
    "y = np.random.randn(2000)\n",
    "plot([go.Histogram2dContour(x=x, y=y, contours=dict(coloring='heatmap'))])"
   ]
  },
  {
   "cell_type": "markdown",
   "metadata": {},
   "source": [
    "You can also combine graph objects as follows (This one adds a grid to the contour plot)"
   ]
  },
  {
   "cell_type": "code",
   "execution_count": null,
   "metadata": {},
   "outputs": [],
   "source": [
    "plot([go.Histogram2dContour(x=x, y=y, contours=dict(coloring='heatmap')),\n",
    "       go.Scatter(x=x, y=y, mode='markers', marker=dict(color='white', size=3, opacity=0.3))])"
   ]
  },
  {
   "cell_type": "markdown",
   "metadata": {},
   "source": [
    "Let's use our familiar dataset on unemployment statistics to practice Plotly. We'll use four Scatter objects to plot the unemployment rates across the years for four counties "
   ]
  },
  {
   "cell_type": "code",
   "execution_count": 22,
   "metadata": {},
   "outputs": [],
   "source": [
    "import pandas as pd\n",
    "\n",
    "unemployment_df = pd.read_excel('https://www.ers.usda.gov/webdocs/DataFiles/48747/Unemployment.xls?v=0', header = 7)\n",
    "unemployment_df.head()\n",
    "unemployment_df = unemployment_df.dropna()\n",
    "df_2 = unemployment_df[['Area_name','Unemployment_rate_2007','Unemployment_rate_2008','Unemployment_rate_2009',\n",
    "       'Unemployment_rate_2010','Unemployment_rate_2011','Unemployment_rate_2012','Unemployment_rate_2013',\n",
    "       'Unemployment_rate_2014','Unemployment_rate_2015','Unemployment_rate_2016','Unemployment_rate_2017']]"
   ]
  },
  {
   "cell_type": "code",
   "execution_count": null,
   "metadata": {},
   "outputs": [],
   "source": [
    "plot([go.Scatter(\n",
    "                        x=[x for x in range(2007, 2018)],\n",
    "                        y=df_2[df_2['Area_name'] == 'Autauga County, AL'].iloc[:,1:].values[0].tolist(),\n",
    "                        text=df_2[df_2['Area_name'] == 'Autauga County, AL'].iloc[:,1:].values[0].tolist(),\n",
    "                        mode='lines+markers',\n",
    "                        opacity=0.7,\n",
    "                        name = 'Autauga, AL',\n",
    "                        marker={\n",
    "                            'size': 8,\n",
    "                            'line': {'width': 0.5, 'color': 'white'}\n",
    "                        },\n",
    "\n",
    "                    ),\n",
    "                 go.Scatter(\n",
    "                        x=[x for x in range(2007,2018)],\n",
    "                        y= df_2[df_2['Area_name'] == 'Hartford County, CT'].iloc[:,1:].values[0].tolist(),\n",
    "                        text=df_2[df_2['Area_name'] == 'Hartford County, CT'].iloc[:,1:].values[0].tolist(),\n",
    "                        mode='lines+markers',\n",
    "                        opacity=0.7,\n",
    "                        name = 'Hartford, CT',\n",
    "                        marker={\n",
    "                            'size': 8,\n",
    "                            'line': {'width': 0.5, 'color': 'white'}\n",
    "                        }\n",
    "                    ),\n",
    "                    go.Scatter(\n",
    "                        x=[x for x in range(2007, 2018)],\n",
    "                        y=df_2[df_2['Area_name'] == 'Carlisle County, KY'].iloc[:,1:].values[0].tolist(),\n",
    "                        text=df_2[df_2['Area_name'] == 'Carlisle County, KY'].iloc[:,1:].values[0].tolist(),\n",
    "                        mode='lines+markers',\n",
    "                        opacity=0.7,\n",
    "                        name = 'Carlisle, KY',\n",
    "                        marker={\n",
    "                            'size': 8,\n",
    "                            'line': {'width': 0.5, 'color': 'white'}\n",
    "                        },\n",
    "\n",
    "                    ),\n",
    "                 go.Scatter(\n",
    "                        x=[x for x in range(2007,2018)],\n",
    "                        y= df_2[df_2['Area_name'] == 'Dallas County, TX'].iloc[:,1:].values[0].tolist(),\n",
    "                        text=df_2[df_2['Area_name'] == 'Dallas County, TX'].iloc[:,1:].values[0].tolist(),\n",
    "                        mode='lines+markers',\n",
    "                        opacity=0.7,\n",
    "                        name = 'Dallas, TX',\n",
    "                        marker={\n",
    "                            'size': 8,\n",
    "                            'line': {'width': 0.5, 'color': 'white'}\n",
    "                        }\n",
    "                    ),])"
   ]
  },
  {
   "cell_type": "markdown",
   "metadata": {},
   "source": [
    "## On your own:\n",
    "    \n",
    "Explore other types of graphs using Plotly to see if there are better ways to visualize the above data"
   ]
  },
  {
   "cell_type": "code",
   "execution_count": null,
   "metadata": {},
   "outputs": [],
   "source": []
  }
 ],
 "metadata": {
  "kernelspec": {
   "display_name": "Python 3",
   "language": "python",
   "name": "python3"
  },
  "language_info": {
   "codemirror_mode": {
    "name": "ipython",
    "version": 3
   },
   "file_extension": ".py",
   "mimetype": "text/x-python",
   "name": "python",
   "nbconvert_exporter": "python",
   "pygments_lexer": "ipython3",
   "version": "3.8.3"
  }
 },
 "nbformat": 4,
 "nbformat_minor": 2
}
